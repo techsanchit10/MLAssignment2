{
 "cells": [
  {
   "cell_type": "code",
   "execution_count": 53,
   "metadata": {},
   "outputs": [],
   "source": [
    "import numpy as np\n",
    "import pandas as pd\n",
    "import matplotlib.pyplot as plt\n",
    "from sklearn import metrics\n",
    "import sklearn\n",
    "import seaborn as sns\n"
   ]
  },
  {
   "cell_type": "code",
   "execution_count": 54,
   "metadata": {},
   "outputs": [],
   "source": [
    "train = pd.read_csv('problem_2_train.csv')\n",
    "test = pd.read_csv('problem_2_test.csv')"
   ]
  },
  {
   "cell_type": "code",
   "execution_count": 55,
   "metadata": {},
   "outputs": [
    {
     "data": {
      "text/html": [
       "<div>\n",
       "<style scoped>\n",
       "    .dataframe tbody tr th:only-of-type {\n",
       "        vertical-align: middle;\n",
       "    }\n",
       "\n",
       "    .dataframe tbody tr th {\n",
       "        vertical-align: top;\n",
       "    }\n",
       "\n",
       "    .dataframe thead th {\n",
       "        text-align: right;\n",
       "    }\n",
       "</style>\n",
       "<table border=\"1\" class=\"dataframe\">\n",
       "  <thead>\n",
       "    <tr style=\"text-align: right;\">\n",
       "      <th></th>\n",
       "      <th>srno</th>\n",
       "      <th>mobmake</th>\n",
       "      <th>hubid</th>\n",
       "      <th>hubpincode</th>\n",
       "      <th>pickuppartnerid</th>\n",
       "      <th>deliverypartnerid</th>\n",
       "      <th>insuranceCompanyId</th>\n",
       "      <th>custpincodecategory</th>\n",
       "      <th>claimtype</th>\n",
       "      <th>custpincode</th>\n",
       "      <th>memcreateddate</th>\n",
       "      <th>mobilepurchasedate</th>\n",
       "      <th>claimintdate</th>\n",
       "      <th>servicecntrid</th>\n",
       "      <th>pickupStartdate</th>\n",
       "      <th>tat_in_days</th>\n",
       "    </tr>\n",
       "  </thead>\n",
       "  <tbody>\n",
       "    <tr>\n",
       "      <th>0</th>\n",
       "      <td>2851218</td>\n",
       "      <td>AN</td>\n",
       "      <td>7</td>\n",
       "      <td>500004</td>\n",
       "      <td>233</td>\n",
       "      <td>233</td>\n",
       "      <td>131</td>\n",
       "      <td>A</td>\n",
       "      <td>ADLD</td>\n",
       "      <td>500001</td>\n",
       "      <td>2017-04-27</td>\n",
       "      <td>2016-12-02</td>\n",
       "      <td>2018-02-08</td>\n",
       "      <td>4403</td>\n",
       "      <td>2018-02-13</td>\n",
       "      <td>5</td>\n",
       "    </tr>\n",
       "    <tr>\n",
       "      <th>1</th>\n",
       "      <td>2838330</td>\n",
       "      <td>AJ</td>\n",
       "      <td>10</td>\n",
       "      <td>226010</td>\n",
       "      <td>233</td>\n",
       "      <td>233</td>\n",
       "      <td>131</td>\n",
       "      <td>A</td>\n",
       "      <td>ADLD</td>\n",
       "      <td>226022</td>\n",
       "      <td>2017-03-06</td>\n",
       "      <td>2017-03-05</td>\n",
       "      <td>2018-02-04</td>\n",
       "      <td>4444</td>\n",
       "      <td>2018-02-08</td>\n",
       "      <td>12</td>\n",
       "    </tr>\n",
       "    <tr>\n",
       "      <th>2</th>\n",
       "      <td>2835781</td>\n",
       "      <td>AJ</td>\n",
       "      <td>2</td>\n",
       "      <td>110018</td>\n",
       "      <td>233</td>\n",
       "      <td>233</td>\n",
       "      <td>228</td>\n",
       "      <td>A</td>\n",
       "      <td>ADLD</td>\n",
       "      <td>110018</td>\n",
       "      <td>2018-02-01</td>\n",
       "      <td>2018-01-27</td>\n",
       "      <td>2018-02-03</td>\n",
       "      <td>4388</td>\n",
       "      <td>2018-02-12</td>\n",
       "      <td>9</td>\n",
       "    </tr>\n",
       "    <tr>\n",
       "      <th>3</th>\n",
       "      <td>2838589</td>\n",
       "      <td>AM</td>\n",
       "      <td>2</td>\n",
       "      <td>110018</td>\n",
       "      <td>233</td>\n",
       "      <td>233</td>\n",
       "      <td>228</td>\n",
       "      <td>B</td>\n",
       "      <td>ADLD</td>\n",
       "      <td>124001</td>\n",
       "      <td>2018-01-17</td>\n",
       "      <td>2018-01-31</td>\n",
       "      <td>2018-02-04</td>\n",
       "      <td>4092</td>\n",
       "      <td>2018-02-14</td>\n",
       "      <td>9</td>\n",
       "    </tr>\n",
       "    <tr>\n",
       "      <th>4</th>\n",
       "      <td>2855214</td>\n",
       "      <td>AN</td>\n",
       "      <td>21</td>\n",
       "      <td>110015</td>\n",
       "      <td>233</td>\n",
       "      <td>233</td>\n",
       "      <td>131</td>\n",
       "      <td>A</td>\n",
       "      <td>ADLD</td>\n",
       "      <td>201301</td>\n",
       "      <td>2018-01-23</td>\n",
       "      <td>2018-01-20</td>\n",
       "      <td>2018-02-09</td>\n",
       "      <td>4580</td>\n",
       "      <td>2018-02-14</td>\n",
       "      <td>8</td>\n",
       "    </tr>\n",
       "  </tbody>\n",
       "</table>\n",
       "</div>"
      ],
      "text/plain": [
       "      srno mobmake  hubid  hubpincode  pickuppartnerid  deliverypartnerid  \\\n",
       "0  2851218      AN      7      500004              233                233   \n",
       "1  2838330      AJ     10      226010              233                233   \n",
       "2  2835781      AJ      2      110018              233                233   \n",
       "3  2838589      AM      2      110018              233                233   \n",
       "4  2855214      AN     21      110015              233                233   \n",
       "\n",
       "   insuranceCompanyId custpincodecategory claimtype  custpincode  \\\n",
       "0                 131                   A      ADLD       500001   \n",
       "1                 131                   A      ADLD       226022   \n",
       "2                 228                   A      ADLD       110018   \n",
       "3                 228                   B      ADLD       124001   \n",
       "4                 131                   A      ADLD       201301   \n",
       "\n",
       "  memcreateddate mobilepurchasedate claimintdate  servicecntrid  \\\n",
       "0     2017-04-27         2016-12-02   2018-02-08           4403   \n",
       "1     2017-03-06         2017-03-05   2018-02-04           4444   \n",
       "2     2018-02-01         2018-01-27   2018-02-03           4388   \n",
       "3     2018-01-17         2018-01-31   2018-02-04           4092   \n",
       "4     2018-01-23         2018-01-20   2018-02-09           4580   \n",
       "\n",
       "  pickupStartdate  tat_in_days  \n",
       "0      2018-02-13            5  \n",
       "1      2018-02-08           12  \n",
       "2      2018-02-12            9  \n",
       "3      2018-02-14            9  \n",
       "4      2018-02-14            8  "
      ]
     },
     "execution_count": 55,
     "metadata": {},
     "output_type": "execute_result"
    }
   ],
   "source": [
    "train.head()"
   ]
  },
  {
   "cell_type": "code",
   "execution_count": 56,
   "metadata": {},
   "outputs": [
    {
     "data": {
      "text/html": [
       "<div>\n",
       "<style scoped>\n",
       "    .dataframe tbody tr th:only-of-type {\n",
       "        vertical-align: middle;\n",
       "    }\n",
       "\n",
       "    .dataframe tbody tr th {\n",
       "        vertical-align: top;\n",
       "    }\n",
       "\n",
       "    .dataframe thead th {\n",
       "        text-align: right;\n",
       "    }\n",
       "</style>\n",
       "<table border=\"1\" class=\"dataframe\">\n",
       "  <thead>\n",
       "    <tr style=\"text-align: right;\">\n",
       "      <th></th>\n",
       "      <th>Unnamed: 0</th>\n",
       "      <th>Unnamed: 0.1</th>\n",
       "      <th>mobmake</th>\n",
       "      <th>hubid</th>\n",
       "      <th>hubpincode</th>\n",
       "      <th>pickuppartnerid</th>\n",
       "      <th>deliverypartnerid</th>\n",
       "      <th>insuranceCompanyId</th>\n",
       "      <th>custpincodecategory</th>\n",
       "      <th>claimtype</th>\n",
       "      <th>custpincode</th>\n",
       "      <th>memcreateddate</th>\n",
       "      <th>mobilepurchasedate</th>\n",
       "      <th>claimintdate</th>\n",
       "      <th>servicecntrid</th>\n",
       "      <th>pickupStartdate</th>\n",
       "      <th>pickupStartdate_Code</th>\n",
       "      <th>claimintdate_Code</th>\n",
       "      <th>tat_in_days</th>\n",
       "    </tr>\n",
       "  </thead>\n",
       "  <tbody>\n",
       "    <tr>\n",
       "      <th>0</th>\n",
       "      <td>2</td>\n",
       "      <td>2</td>\n",
       "      <td>10</td>\n",
       "      <td>3</td>\n",
       "      <td>560011</td>\n",
       "      <td>233</td>\n",
       "      <td>233</td>\n",
       "      <td>228</td>\n",
       "      <td>2</td>\n",
       "      <td>0</td>\n",
       "      <td>590014</td>\n",
       "      <td>2018-12-01</td>\n",
       "      <td>2018-11-01</td>\n",
       "      <td>2018-02-21</td>\n",
       "      <td>4460</td>\n",
       "      <td>2018-02-28</td>\n",
       "      <td>1519776000000000000</td>\n",
       "      <td>1519171200000000000</td>\n",
       "      <td>13</td>\n",
       "    </tr>\n",
       "    <tr>\n",
       "      <th>1</th>\n",
       "      <td>3</td>\n",
       "      <td>3</td>\n",
       "      <td>10</td>\n",
       "      <td>2</td>\n",
       "      <td>110018</td>\n",
       "      <td>233</td>\n",
       "      <td>233</td>\n",
       "      <td>228</td>\n",
       "      <td>1</td>\n",
       "      <td>0</td>\n",
       "      <td>250110</td>\n",
       "      <td>2017-07-08</td>\n",
       "      <td>2017-05-21</td>\n",
       "      <td>2018-02-16</td>\n",
       "      <td>4388</td>\n",
       "      <td>2018-02-26</td>\n",
       "      <td>1519603200000000000</td>\n",
       "      <td>1518739200000000000</td>\n",
       "      <td>13</td>\n",
       "    </tr>\n",
       "    <tr>\n",
       "      <th>2</th>\n",
       "      <td>4</td>\n",
       "      <td>4</td>\n",
       "      <td>13</td>\n",
       "      <td>22</td>\n",
       "      <td>400104</td>\n",
       "      <td>233</td>\n",
       "      <td>233</td>\n",
       "      <td>131</td>\n",
       "      <td>2</td>\n",
       "      <td>0</td>\n",
       "      <td>496001</td>\n",
       "      <td>2017-10-11</td>\n",
       "      <td>2017-09-22</td>\n",
       "      <td>2018-02-20</td>\n",
       "      <td>4581</td>\n",
       "      <td>2018-02-23</td>\n",
       "      <td>1519344000000000000</td>\n",
       "      <td>1519084800000000000</td>\n",
       "      <td>13</td>\n",
       "    </tr>\n",
       "    <tr>\n",
       "      <th>3</th>\n",
       "      <td>5</td>\n",
       "      <td>5</td>\n",
       "      <td>15</td>\n",
       "      <td>6</td>\n",
       "      <td>160059</td>\n",
       "      <td>233</td>\n",
       "      <td>233</td>\n",
       "      <td>131</td>\n",
       "      <td>1</td>\n",
       "      <td>0</td>\n",
       "      <td>160036</td>\n",
       "      <td>2017-12-12</td>\n",
       "      <td>2017-10-12</td>\n",
       "      <td>2018-02-22</td>\n",
       "      <td>4549</td>\n",
       "      <td>2018-02-27</td>\n",
       "      <td>1519689600000000000</td>\n",
       "      <td>1519257600000000000</td>\n",
       "      <td>12</td>\n",
       "    </tr>\n",
       "    <tr>\n",
       "      <th>4</th>\n",
       "      <td>8</td>\n",
       "      <td>8</td>\n",
       "      <td>13</td>\n",
       "      <td>21</td>\n",
       "      <td>110015</td>\n",
       "      <td>233</td>\n",
       "      <td>233</td>\n",
       "      <td>131</td>\n",
       "      <td>1</td>\n",
       "      <td>0</td>\n",
       "      <td>124001</td>\n",
       "      <td>2017-12-31</td>\n",
       "      <td>2017-06-26</td>\n",
       "      <td>2018-05-03</td>\n",
       "      <td>4580</td>\n",
       "      <td>2018-03-14</td>\n",
       "      <td>1520985600000000000</td>\n",
       "      <td>1525305600000000000</td>\n",
       "      <td>6</td>\n",
       "    </tr>\n",
       "  </tbody>\n",
       "</table>\n",
       "</div>"
      ],
      "text/plain": [
       "   Unnamed: 0  Unnamed: 0.1  mobmake  hubid  hubpincode  pickuppartnerid  \\\n",
       "0           2             2       10      3      560011              233   \n",
       "1           3             3       10      2      110018              233   \n",
       "2           4             4       13     22      400104              233   \n",
       "3           5             5       15      6      160059              233   \n",
       "4           8             8       13     21      110015              233   \n",
       "\n",
       "   deliverypartnerid  insuranceCompanyId  custpincodecategory  claimtype  \\\n",
       "0                233                 228                    2          0   \n",
       "1                233                 228                    1          0   \n",
       "2                233                 131                    2          0   \n",
       "3                233                 131                    1          0   \n",
       "4                233                 131                    1          0   \n",
       "\n",
       "   custpincode memcreateddate mobilepurchasedate claimintdate  servicecntrid  \\\n",
       "0       590014     2018-12-01         2018-11-01   2018-02-21           4460   \n",
       "1       250110     2017-07-08         2017-05-21   2018-02-16           4388   \n",
       "2       496001     2017-10-11         2017-09-22   2018-02-20           4581   \n",
       "3       160036     2017-12-12         2017-10-12   2018-02-22           4549   \n",
       "4       124001     2017-12-31         2017-06-26   2018-05-03           4580   \n",
       "\n",
       "  pickupStartdate  pickupStartdate_Code    claimintdate_Code  tat_in_days  \n",
       "0      2018-02-28   1519776000000000000  1519171200000000000           13  \n",
       "1      2018-02-26   1519603200000000000  1518739200000000000           13  \n",
       "2      2018-02-23   1519344000000000000  1519084800000000000           13  \n",
       "3      2018-02-27   1519689600000000000  1519257600000000000           12  \n",
       "4      2018-03-14   1520985600000000000  1525305600000000000            6  "
      ]
     },
     "execution_count": 56,
     "metadata": {},
     "output_type": "execute_result"
    }
   ],
   "source": [
    "test.head()"
   ]
  },
  {
   "cell_type": "code",
   "execution_count": 57,
   "metadata": {
    "scrolled": true
   },
   "outputs": [],
   "source": [
    "from sklearn.preprocessing import LabelEncoder\n",
    "le_mobmake = LabelEncoder()\n",
    "le_custpincodecat = LabelEncoder()\n",
    "le_claimtype = LabelEncoder()"
   ]
  },
  {
   "cell_type": "code",
   "execution_count": 58,
   "metadata": {},
   "outputs": [],
   "source": [
    "train['mobmake'] = le_mobmake.fit_transform(train['mobmake'])\n",
    "train['custpincodecategory'] = le_custpincodecat.fit_transform(train['custpincodecategory'])\n",
    "train['claimtype'] = le_claimtype.fit_transform(train['claimtype'])\n",
    "\n",
    "\n",
    "test['mobmake'] = le_mobmake.fit_transform(test['mobmake'])\n",
    "test['custpincodecategory'] = le_custpincodecat.fit_transform(test['custpincodecategory'])\n",
    "test['claimtype'] = le_claimtype.fit_transform(test['claimtype'])"
   ]
  },
  {
   "cell_type": "code",
   "execution_count": 59,
   "metadata": {},
   "outputs": [
    {
     "data": {
      "text/html": [
       "<div>\n",
       "<style scoped>\n",
       "    .dataframe tbody tr th:only-of-type {\n",
       "        vertical-align: middle;\n",
       "    }\n",
       "\n",
       "    .dataframe tbody tr th {\n",
       "        vertical-align: top;\n",
       "    }\n",
       "\n",
       "    .dataframe thead th {\n",
       "        text-align: right;\n",
       "    }\n",
       "</style>\n",
       "<table border=\"1\" class=\"dataframe\">\n",
       "  <thead>\n",
       "    <tr style=\"text-align: right;\">\n",
       "      <th></th>\n",
       "      <th>srno</th>\n",
       "      <th>mobmake</th>\n",
       "      <th>hubid</th>\n",
       "      <th>hubpincode</th>\n",
       "      <th>pickuppartnerid</th>\n",
       "      <th>deliverypartnerid</th>\n",
       "      <th>insuranceCompanyId</th>\n",
       "      <th>custpincodecategory</th>\n",
       "      <th>claimtype</th>\n",
       "      <th>custpincode</th>\n",
       "      <th>memcreateddate</th>\n",
       "      <th>mobilepurchasedate</th>\n",
       "      <th>claimintdate</th>\n",
       "      <th>servicecntrid</th>\n",
       "      <th>pickupStartdate</th>\n",
       "      <th>tat_in_days</th>\n",
       "    </tr>\n",
       "  </thead>\n",
       "  <tbody>\n",
       "    <tr>\n",
       "      <th>0</th>\n",
       "      <td>2851218</td>\n",
       "      <td>12</td>\n",
       "      <td>7</td>\n",
       "      <td>500004</td>\n",
       "      <td>233</td>\n",
       "      <td>233</td>\n",
       "      <td>131</td>\n",
       "      <td>1</td>\n",
       "      <td>0</td>\n",
       "      <td>500001</td>\n",
       "      <td>2017-04-27</td>\n",
       "      <td>2016-12-02</td>\n",
       "      <td>2018-02-08</td>\n",
       "      <td>4403</td>\n",
       "      <td>2018-02-13</td>\n",
       "      <td>5</td>\n",
       "    </tr>\n",
       "  </tbody>\n",
       "</table>\n",
       "</div>"
      ],
      "text/plain": [
       "      srno  mobmake  hubid  hubpincode  pickuppartnerid  deliverypartnerid  \\\n",
       "0  2851218       12      7      500004              233                233   \n",
       "\n",
       "   insuranceCompanyId  custpincodecategory  claimtype  custpincode  \\\n",
       "0                 131                    1          0       500001   \n",
       "\n",
       "  memcreateddate mobilepurchasedate claimintdate  servicecntrid  \\\n",
       "0     2017-04-27         2016-12-02   2018-02-08           4403   \n",
       "\n",
       "  pickupStartdate  tat_in_days  \n",
       "0      2018-02-13            5  "
      ]
     },
     "execution_count": 59,
     "metadata": {},
     "output_type": "execute_result"
    }
   ],
   "source": [
    "train.head(1)"
   ]
  },
  {
   "cell_type": "code",
   "execution_count": 60,
   "metadata": {},
   "outputs": [
    {
     "data": {
      "text/plain": [
       "1    4020\n",
       "2    1346\n",
       "3     554\n",
       "0     186\n",
       "4     144\n",
       "Name: custpincodecategory, dtype: int64"
      ]
     },
     "execution_count": 60,
     "metadata": {},
     "output_type": "execute_result"
    }
   ],
   "source": [
    "train.custpincodecategory.value_counts()"
   ]
  },
  {
   "cell_type": "code",
   "execution_count": 61,
   "metadata": {},
   "outputs": [
    {
     "data": {
      "text/plain": [
       "0    475\n",
       "1    204\n",
       "2     44\n",
       "Name: custpincodecategory, dtype: int64"
      ]
     },
     "execution_count": 61,
     "metadata": {},
     "output_type": "execute_result"
    }
   ],
   "source": [
    "test.custpincodecategory.value_counts()"
   ]
  },
  {
   "cell_type": "code",
   "execution_count": 62,
   "metadata": {},
   "outputs": [],
   "source": [
    "null_pincat_train = train.query(\"custpincodecategory == '0'\").index\n",
    "null_pincat_test = test.query(\"custpincodecategory == '0'\").index"
   ]
  },
  {
   "cell_type": "code",
   "execution_count": 63,
   "metadata": {},
   "outputs": [],
   "source": [
    "train.drop(null_pincat_train,inplace = True)"
   ]
  },
  {
   "cell_type": "code",
   "execution_count": 64,
   "metadata": {},
   "outputs": [],
   "source": [
    "test.drop(null_pincat_test, inplace = True)"
   ]
  },
  {
   "cell_type": "code",
   "execution_count": 89,
   "metadata": {},
   "outputs": [
    {
     "data": {
      "text/plain": [
       "1    4020\n",
       "2    1346\n",
       "3     554\n",
       "4     144\n",
       "Name: custpincodecategory, dtype: int64"
      ]
     },
     "execution_count": 89,
     "metadata": {},
     "output_type": "execute_result"
    }
   ],
   "source": [
    "train.custpincodecategory.value_counts()"
   ]
  },
  {
   "cell_type": "code",
   "execution_count": 66,
   "metadata": {},
   "outputs": [],
   "source": [
    "train['memcreateddate'] = pd.to_datetime(train['memcreateddate'])\n",
    "train['mobilepurchasedate'] = pd.to_datetime(train['mobilepurchasedate'])\n",
    "train['claimintdate'] = pd.to_datetime(train['claimintdate'])\n",
    "train['pickupStartdate'] = pd.to_datetime(train['pickupStartdate'])"
   ]
  },
  {
   "cell_type": "code",
   "execution_count": 90,
   "metadata": {},
   "outputs": [
    {
     "data": {
      "text/plain": [
       "srno                             int64\n",
       "mobmake                          int32\n",
       "hubid                            int64\n",
       "hubpincode                       int64\n",
       "pickuppartnerid                  int64\n",
       "deliverypartnerid                int64\n",
       "insuranceCompanyId               int64\n",
       "custpincodecategory              int32\n",
       "claimtype                        int32\n",
       "custpincode                      int64\n",
       "memcreateddate          datetime64[ns]\n",
       "mobilepurchasedate      datetime64[ns]\n",
       "claimintdate            datetime64[ns]\n",
       "servicecntrid                    int64\n",
       "pickupStartdate         datetime64[ns]\n",
       "tat_in_days                      int64\n",
       "pickupStartdate_Code             int64\n",
       "claimintdate_Code                int64\n",
       "dtype: object"
      ]
     },
     "execution_count": 90,
     "metadata": {},
     "output_type": "execute_result"
    }
   ],
   "source": [
    "train.dtypes"
   ]
  },
  {
   "cell_type": "code",
   "execution_count": 68,
   "metadata": {},
   "outputs": [],
   "source": [
    "test['memcreateddate'] = pd.to_datetime(test['memcreateddate'])\n",
    "test['mobilepurchasedate'] = pd.to_datetime(test['mobilepurchasedate'])\n",
    "test['claimintdate'] = pd.to_datetime(test['claimintdate'])\n",
    "test['pickupStartdate'] = pd.to_datetime(test['pickupStartdate'])"
   ]
  },
  {
   "cell_type": "code",
   "execution_count": 69,
   "metadata": {},
   "outputs": [
    {
     "data": {
      "text/plain": [
       "Unnamed: 0                       int64\n",
       "Unnamed: 0.1                     int64\n",
       "mobmake                          int32\n",
       "hubid                            int64\n",
       "hubpincode                       int64\n",
       "pickuppartnerid                  int64\n",
       "deliverypartnerid                int64\n",
       "insuranceCompanyId               int64\n",
       "custpincodecategory              int32\n",
       "claimtype                        int32\n",
       "custpincode                      int64\n",
       "memcreateddate          datetime64[ns]\n",
       "mobilepurchasedate      datetime64[ns]\n",
       "claimintdate            datetime64[ns]\n",
       "servicecntrid                    int64\n",
       "pickupStartdate         datetime64[ns]\n",
       "pickupStartdate_Code             int64\n",
       "claimintdate_Code                int64\n",
       "tat_in_days                      int64\n",
       "dtype: object"
      ]
     },
     "execution_count": 69,
     "metadata": {},
     "output_type": "execute_result"
    }
   ],
   "source": [
    "test.dtypes"
   ]
  },
  {
   "cell_type": "code",
   "execution_count": 70,
   "metadata": {
    "scrolled": true
   },
   "outputs": [],
   "source": [
    "train['pickupStartdate_Code']=pd.to_numeric(train['pickupStartdate'])\n",
    "train['claimintdate_Code'] = pd.to_numeric(train['claimintdate'])"
   ]
  },
  {
   "cell_type": "code",
   "execution_count": 71,
   "metadata": {},
   "outputs": [],
   "source": [
    "test['pickupStartdate_Code']=pd.to_numeric(test['pickupStartdate'])\n",
    "test['claimintdate_Code'] = pd.to_numeric(test['claimintdate'])"
   ]
  },
  {
   "cell_type": "code",
   "execution_count": 20,
   "metadata": {
    "scrolled": true
   },
   "outputs": [
    {
     "data": {
      "text/html": [
       "<div>\n",
       "<style scoped>\n",
       "    .dataframe tbody tr th:only-of-type {\n",
       "        vertical-align: middle;\n",
       "    }\n",
       "\n",
       "    .dataframe tbody tr th {\n",
       "        vertical-align: top;\n",
       "    }\n",
       "\n",
       "    .dataframe thead th {\n",
       "        text-align: right;\n",
       "    }\n",
       "</style>\n",
       "<table border=\"1\" class=\"dataframe\">\n",
       "  <thead>\n",
       "    <tr style=\"text-align: right;\">\n",
       "      <th></th>\n",
       "      <th>srno</th>\n",
       "      <th>mobmake</th>\n",
       "      <th>hubid</th>\n",
       "      <th>hubpincode</th>\n",
       "      <th>pickuppartnerid</th>\n",
       "      <th>deliverypartnerid</th>\n",
       "      <th>insuranceCompanyId</th>\n",
       "      <th>custpincodecategory</th>\n",
       "      <th>claimtype</th>\n",
       "      <th>custpincode</th>\n",
       "      <th>servicecntrid</th>\n",
       "      <th>tat_in_days</th>\n",
       "      <th>pickupStartdate_Code</th>\n",
       "      <th>claimintdate_Code</th>\n",
       "    </tr>\n",
       "  </thead>\n",
       "  <tbody>\n",
       "    <tr>\n",
       "      <th>srno</th>\n",
       "      <td>1.000000</td>\n",
       "      <td>-0.018743</td>\n",
       "      <td>0.278181</td>\n",
       "      <td>-0.023651</td>\n",
       "      <td>0.085064</td>\n",
       "      <td>0.013483</td>\n",
       "      <td>0.042196</td>\n",
       "      <td>-0.060024</td>\n",
       "      <td>-0.002612</td>\n",
       "      <td>-0.011799</td>\n",
       "      <td>0.123686</td>\n",
       "      <td>-0.191784</td>\n",
       "      <td>0.969781</td>\n",
       "      <td>0.998955</td>\n",
       "    </tr>\n",
       "    <tr>\n",
       "      <th>mobmake</th>\n",
       "      <td>-0.018743</td>\n",
       "      <td>1.000000</td>\n",
       "      <td>-0.159066</td>\n",
       "      <td>-0.065548</td>\n",
       "      <td>0.005897</td>\n",
       "      <td>-0.001430</td>\n",
       "      <td>-0.068416</td>\n",
       "      <td>0.000617</td>\n",
       "      <td>0.030627</td>\n",
       "      <td>-0.031002</td>\n",
       "      <td>-0.039032</td>\n",
       "      <td>0.159508</td>\n",
       "      <td>-0.013650</td>\n",
       "      <td>-0.019163</td>\n",
       "    </tr>\n",
       "    <tr>\n",
       "      <th>hubid</th>\n",
       "      <td>0.278181</td>\n",
       "      <td>-0.159066</td>\n",
       "      <td>1.000000</td>\n",
       "      <td>-0.053873</td>\n",
       "      <td>0.043863</td>\n",
       "      <td>-0.000923</td>\n",
       "      <td>-0.150516</td>\n",
       "      <td>0.081381</td>\n",
       "      <td>-0.003217</td>\n",
       "      <td>-0.023560</td>\n",
       "      <td>0.453385</td>\n",
       "      <td>-0.130054</td>\n",
       "      <td>0.274771</td>\n",
       "      <td>0.276349</td>\n",
       "    </tr>\n",
       "    <tr>\n",
       "      <th>hubpincode</th>\n",
       "      <td>-0.023651</td>\n",
       "      <td>-0.065548</td>\n",
       "      <td>-0.053873</td>\n",
       "      <td>1.000000</td>\n",
       "      <td>-0.037902</td>\n",
       "      <td>-0.023168</td>\n",
       "      <td>-0.088599</td>\n",
       "      <td>0.071128</td>\n",
       "      <td>0.010370</td>\n",
       "      <td>0.935550</td>\n",
       "      <td>0.202960</td>\n",
       "      <td>-0.001734</td>\n",
       "      <td>-0.030439</td>\n",
       "      <td>-0.023359</td>\n",
       "    </tr>\n",
       "    <tr>\n",
       "      <th>pickuppartnerid</th>\n",
       "      <td>0.085064</td>\n",
       "      <td>0.005897</td>\n",
       "      <td>0.043863</td>\n",
       "      <td>-0.037902</td>\n",
       "      <td>1.000000</td>\n",
       "      <td>0.183860</td>\n",
       "      <td>0.093446</td>\n",
       "      <td>-0.168174</td>\n",
       "      <td>-0.034984</td>\n",
       "      <td>-0.050276</td>\n",
       "      <td>0.045379</td>\n",
       "      <td>-0.051229</td>\n",
       "      <td>0.086464</td>\n",
       "      <td>0.084857</td>\n",
       "    </tr>\n",
       "    <tr>\n",
       "      <th>deliverypartnerid</th>\n",
       "      <td>0.013483</td>\n",
       "      <td>-0.001430</td>\n",
       "      <td>-0.000923</td>\n",
       "      <td>-0.023168</td>\n",
       "      <td>0.183860</td>\n",
       "      <td>1.000000</td>\n",
       "      <td>0.025887</td>\n",
       "      <td>-0.035476</td>\n",
       "      <td>-0.068541</td>\n",
       "      <td>-0.023051</td>\n",
       "      <td>0.024550</td>\n",
       "      <td>-0.055695</td>\n",
       "      <td>0.017665</td>\n",
       "      <td>0.013722</td>\n",
       "    </tr>\n",
       "    <tr>\n",
       "      <th>insuranceCompanyId</th>\n",
       "      <td>0.042196</td>\n",
       "      <td>-0.068416</td>\n",
       "      <td>-0.150516</td>\n",
       "      <td>-0.088599</td>\n",
       "      <td>0.093446</td>\n",
       "      <td>0.025887</td>\n",
       "      <td>1.000000</td>\n",
       "      <td>-0.089211</td>\n",
       "      <td>0.044676</td>\n",
       "      <td>-0.098107</td>\n",
       "      <td>-0.135815</td>\n",
       "      <td>-0.032245</td>\n",
       "      <td>0.027457</td>\n",
       "      <td>0.041351</td>\n",
       "    </tr>\n",
       "    <tr>\n",
       "      <th>custpincodecategory</th>\n",
       "      <td>-0.060024</td>\n",
       "      <td>0.000617</td>\n",
       "      <td>0.081381</td>\n",
       "      <td>0.071128</td>\n",
       "      <td>-0.168174</td>\n",
       "      <td>-0.035476</td>\n",
       "      <td>-0.089211</td>\n",
       "      <td>1.000000</td>\n",
       "      <td>-0.007657</td>\n",
       "      <td>0.129381</td>\n",
       "      <td>0.064950</td>\n",
       "      <td>0.238880</td>\n",
       "      <td>-0.054386</td>\n",
       "      <td>-0.060836</td>\n",
       "    </tr>\n",
       "    <tr>\n",
       "      <th>claimtype</th>\n",
       "      <td>-0.002612</td>\n",
       "      <td>0.030627</td>\n",
       "      <td>-0.003217</td>\n",
       "      <td>0.010370</td>\n",
       "      <td>-0.034984</td>\n",
       "      <td>-0.068541</td>\n",
       "      <td>0.044676</td>\n",
       "      <td>-0.007657</td>\n",
       "      <td>1.000000</td>\n",
       "      <td>0.009260</td>\n",
       "      <td>-0.004266</td>\n",
       "      <td>0.082692</td>\n",
       "      <td>-0.003497</td>\n",
       "      <td>-0.003065</td>\n",
       "    </tr>\n",
       "    <tr>\n",
       "      <th>custpincode</th>\n",
       "      <td>-0.011799</td>\n",
       "      <td>-0.031002</td>\n",
       "      <td>-0.023560</td>\n",
       "      <td>0.935550</td>\n",
       "      <td>-0.050276</td>\n",
       "      <td>-0.023051</td>\n",
       "      <td>-0.098107</td>\n",
       "      <td>0.129381</td>\n",
       "      <td>0.009260</td>\n",
       "      <td>1.000000</td>\n",
       "      <td>0.212148</td>\n",
       "      <td>0.042921</td>\n",
       "      <td>-0.019456</td>\n",
       "      <td>-0.011939</td>\n",
       "    </tr>\n",
       "    <tr>\n",
       "      <th>servicecntrid</th>\n",
       "      <td>0.123686</td>\n",
       "      <td>-0.039032</td>\n",
       "      <td>0.453385</td>\n",
       "      <td>0.202960</td>\n",
       "      <td>0.045379</td>\n",
       "      <td>0.024550</td>\n",
       "      <td>-0.135815</td>\n",
       "      <td>0.064950</td>\n",
       "      <td>-0.004266</td>\n",
       "      <td>0.212148</td>\n",
       "      <td>1.000000</td>\n",
       "      <td>-0.170468</td>\n",
       "      <td>0.119914</td>\n",
       "      <td>0.122029</td>\n",
       "    </tr>\n",
       "    <tr>\n",
       "      <th>tat_in_days</th>\n",
       "      <td>-0.191784</td>\n",
       "      <td>0.159508</td>\n",
       "      <td>-0.130054</td>\n",
       "      <td>-0.001734</td>\n",
       "      <td>-0.051229</td>\n",
       "      <td>-0.055695</td>\n",
       "      <td>-0.032245</td>\n",
       "      <td>0.238880</td>\n",
       "      <td>0.082692</td>\n",
       "      <td>0.042921</td>\n",
       "      <td>-0.170468</td>\n",
       "      <td>1.000000</td>\n",
       "      <td>-0.175693</td>\n",
       "      <td>-0.192367</td>\n",
       "    </tr>\n",
       "    <tr>\n",
       "      <th>pickupStartdate_Code</th>\n",
       "      <td>0.969781</td>\n",
       "      <td>-0.013650</td>\n",
       "      <td>0.274771</td>\n",
       "      <td>-0.030439</td>\n",
       "      <td>0.086464</td>\n",
       "      <td>0.017665</td>\n",
       "      <td>0.027457</td>\n",
       "      <td>-0.054386</td>\n",
       "      <td>-0.003497</td>\n",
       "      <td>-0.019456</td>\n",
       "      <td>0.119914</td>\n",
       "      <td>-0.175693</td>\n",
       "      <td>1.000000</td>\n",
       "      <td>0.970396</td>\n",
       "    </tr>\n",
       "    <tr>\n",
       "      <th>claimintdate_Code</th>\n",
       "      <td>0.998955</td>\n",
       "      <td>-0.019163</td>\n",
       "      <td>0.276349</td>\n",
       "      <td>-0.023359</td>\n",
       "      <td>0.084857</td>\n",
       "      <td>0.013722</td>\n",
       "      <td>0.041351</td>\n",
       "      <td>-0.060836</td>\n",
       "      <td>-0.003065</td>\n",
       "      <td>-0.011939</td>\n",
       "      <td>0.122029</td>\n",
       "      <td>-0.192367</td>\n",
       "      <td>0.970396</td>\n",
       "      <td>1.000000</td>\n",
       "    </tr>\n",
       "  </tbody>\n",
       "</table>\n",
       "</div>"
      ],
      "text/plain": [
       "                          srno   mobmake     hubid  hubpincode  \\\n",
       "srno                  1.000000 -0.018743  0.278181   -0.023651   \n",
       "mobmake              -0.018743  1.000000 -0.159066   -0.065548   \n",
       "hubid                 0.278181 -0.159066  1.000000   -0.053873   \n",
       "hubpincode           -0.023651 -0.065548 -0.053873    1.000000   \n",
       "pickuppartnerid       0.085064  0.005897  0.043863   -0.037902   \n",
       "deliverypartnerid     0.013483 -0.001430 -0.000923   -0.023168   \n",
       "insuranceCompanyId    0.042196 -0.068416 -0.150516   -0.088599   \n",
       "custpincodecategory  -0.060024  0.000617  0.081381    0.071128   \n",
       "claimtype            -0.002612  0.030627 -0.003217    0.010370   \n",
       "custpincode          -0.011799 -0.031002 -0.023560    0.935550   \n",
       "servicecntrid         0.123686 -0.039032  0.453385    0.202960   \n",
       "tat_in_days          -0.191784  0.159508 -0.130054   -0.001734   \n",
       "pickupStartdate_Code  0.969781 -0.013650  0.274771   -0.030439   \n",
       "claimintdate_Code     0.998955 -0.019163  0.276349   -0.023359   \n",
       "\n",
       "                      pickuppartnerid  deliverypartnerid  insuranceCompanyId  \\\n",
       "srno                         0.085064           0.013483            0.042196   \n",
       "mobmake                      0.005897          -0.001430           -0.068416   \n",
       "hubid                        0.043863          -0.000923           -0.150516   \n",
       "hubpincode                  -0.037902          -0.023168           -0.088599   \n",
       "pickuppartnerid              1.000000           0.183860            0.093446   \n",
       "deliverypartnerid            0.183860           1.000000            0.025887   \n",
       "insuranceCompanyId           0.093446           0.025887            1.000000   \n",
       "custpincodecategory         -0.168174          -0.035476           -0.089211   \n",
       "claimtype                   -0.034984          -0.068541            0.044676   \n",
       "custpincode                 -0.050276          -0.023051           -0.098107   \n",
       "servicecntrid                0.045379           0.024550           -0.135815   \n",
       "tat_in_days                 -0.051229          -0.055695           -0.032245   \n",
       "pickupStartdate_Code         0.086464           0.017665            0.027457   \n",
       "claimintdate_Code            0.084857           0.013722            0.041351   \n",
       "\n",
       "                      custpincodecategory  claimtype  custpincode  \\\n",
       "srno                            -0.060024  -0.002612    -0.011799   \n",
       "mobmake                          0.000617   0.030627    -0.031002   \n",
       "hubid                            0.081381  -0.003217    -0.023560   \n",
       "hubpincode                       0.071128   0.010370     0.935550   \n",
       "pickuppartnerid                 -0.168174  -0.034984    -0.050276   \n",
       "deliverypartnerid               -0.035476  -0.068541    -0.023051   \n",
       "insuranceCompanyId              -0.089211   0.044676    -0.098107   \n",
       "custpincodecategory              1.000000  -0.007657     0.129381   \n",
       "claimtype                       -0.007657   1.000000     0.009260   \n",
       "custpincode                      0.129381   0.009260     1.000000   \n",
       "servicecntrid                    0.064950  -0.004266     0.212148   \n",
       "tat_in_days                      0.238880   0.082692     0.042921   \n",
       "pickupStartdate_Code            -0.054386  -0.003497    -0.019456   \n",
       "claimintdate_Code               -0.060836  -0.003065    -0.011939   \n",
       "\n",
       "                      servicecntrid  tat_in_days  pickupStartdate_Code  \\\n",
       "srno                       0.123686    -0.191784              0.969781   \n",
       "mobmake                   -0.039032     0.159508             -0.013650   \n",
       "hubid                      0.453385    -0.130054              0.274771   \n",
       "hubpincode                 0.202960    -0.001734             -0.030439   \n",
       "pickuppartnerid            0.045379    -0.051229              0.086464   \n",
       "deliverypartnerid          0.024550    -0.055695              0.017665   \n",
       "insuranceCompanyId        -0.135815    -0.032245              0.027457   \n",
       "custpincodecategory        0.064950     0.238880             -0.054386   \n",
       "claimtype                 -0.004266     0.082692             -0.003497   \n",
       "custpincode                0.212148     0.042921             -0.019456   \n",
       "servicecntrid              1.000000    -0.170468              0.119914   \n",
       "tat_in_days               -0.170468     1.000000             -0.175693   \n",
       "pickupStartdate_Code       0.119914    -0.175693              1.000000   \n",
       "claimintdate_Code          0.122029    -0.192367              0.970396   \n",
       "\n",
       "                      claimintdate_Code  \n",
       "srno                           0.998955  \n",
       "mobmake                       -0.019163  \n",
       "hubid                          0.276349  \n",
       "hubpincode                    -0.023359  \n",
       "pickuppartnerid                0.084857  \n",
       "deliverypartnerid              0.013722  \n",
       "insuranceCompanyId             0.041351  \n",
       "custpincodecategory           -0.060836  \n",
       "claimtype                     -0.003065  \n",
       "custpincode                   -0.011939  \n",
       "servicecntrid                  0.122029  \n",
       "tat_in_days                   -0.192367  \n",
       "pickupStartdate_Code           0.970396  \n",
       "claimintdate_Code              1.000000  "
      ]
     },
     "execution_count": 20,
     "metadata": {},
     "output_type": "execute_result"
    }
   ],
   "source": [
    "train.corr()"
   ]
  },
  {
   "cell_type": "code",
   "execution_count": 72,
   "metadata": {},
   "outputs": [
    {
     "data": {
      "text/plain": [
       "<matplotlib.axes._subplots.AxesSubplot at 0xd4d3ab0>"
      ]
     },
     "execution_count": 72,
     "metadata": {},
     "output_type": "execute_result"
    },
    {
     "data": {
      "image/png": "[encoded data removed]",
      "text/plain": [
       "<Figure size 432x288 with 1 Axes>"
      ]
     },
     "metadata": {
      "needs_background": "light"
     },
     "output_type": "display_data"
    }
   ],
   "source": [
    "sns.distplot(train['tat_in_days'], kde = False)"
   ]
  },
  {
   "cell_type": "code",
   "execution_count": 73,
   "metadata": {
    "scrolled": true
   },
   "outputs": [
    {
     "data": {
      "text/plain": [
       "10    658\n",
       "9     627\n",
       "11    605\n",
       "12    594\n",
       "13    476\n",
       "8     468\n",
       "14    446\n",
       "7     348\n",
       "15    280\n",
       "16    276\n",
       "17    209\n",
       "18    168\n",
       "6     168\n",
       "19    118\n",
       "20    108\n",
       "21     94\n",
       "5      71\n",
       "23     60\n",
       "22     53\n",
       "24     39\n",
       "25     38\n",
       "26     26\n",
       "4      18\n",
       "27     18\n",
       "28     17\n",
       "32     16\n",
       "29     15\n",
       "30     11\n",
       "31     11\n",
       "33      6\n",
       "34      4\n",
       "38      4\n",
       "37      2\n",
       "3       2\n",
       "36      1\n",
       "39      1\n",
       "40      1\n",
       "44      1\n",
       "41      1\n",
       "35      1\n",
       "57      1\n",
       "2       1\n",
       "46      1\n",
       "45      1\n",
       "Name: tat_in_days, dtype: int64"
      ]
     },
     "execution_count": 73,
     "metadata": {},
     "output_type": "execute_result"
    }
   ],
   "source": [
    "train.tat_in_days.value_counts()"
   ]
  },
  {
   "cell_type": "code",
   "execution_count": 74,
   "metadata": {},
   "outputs": [
    {
     "data": {
      "text/html": [
       "<div>\n",
       "<style scoped>\n",
       "    .dataframe tbody tr th:only-of-type {\n",
       "        vertical-align: middle;\n",
       "    }\n",
       "\n",
       "    .dataframe tbody tr th {\n",
       "        vertical-align: top;\n",
       "    }\n",
       "\n",
       "    .dataframe thead th {\n",
       "        text-align: right;\n",
       "    }\n",
       "</style>\n",
       "<table border=\"1\" class=\"dataframe\">\n",
       "  <thead>\n",
       "    <tr style=\"text-align: right;\">\n",
       "      <th></th>\n",
       "      <th>srno</th>\n",
       "      <th>mobmake</th>\n",
       "      <th>hubid</th>\n",
       "      <th>hubpincode</th>\n",
       "      <th>pickuppartnerid</th>\n",
       "      <th>deliverypartnerid</th>\n",
       "      <th>insuranceCompanyId</th>\n",
       "      <th>custpincodecategory</th>\n",
       "      <th>claimtype</th>\n",
       "      <th>custpincode</th>\n",
       "      <th>memcreateddate</th>\n",
       "      <th>mobilepurchasedate</th>\n",
       "      <th>claimintdate</th>\n",
       "      <th>servicecntrid</th>\n",
       "      <th>pickupStartdate</th>\n",
       "      <th>tat_in_days</th>\n",
       "      <th>pickupStartdate_Code</th>\n",
       "      <th>claimintdate_Code</th>\n",
       "    </tr>\n",
       "  </thead>\n",
       "  <tbody>\n",
       "    <tr>\n",
       "      <th>0</th>\n",
       "      <td>2851218</td>\n",
       "      <td>12</td>\n",
       "      <td>7</td>\n",
       "      <td>500004</td>\n",
       "      <td>233</td>\n",
       "      <td>233</td>\n",
       "      <td>131</td>\n",
       "      <td>1</td>\n",
       "      <td>0</td>\n",
       "      <td>500001</td>\n",
       "      <td>2017-04-27</td>\n",
       "      <td>2016-12-02</td>\n",
       "      <td>2018-02-08</td>\n",
       "      <td>4403</td>\n",
       "      <td>2018-02-13</td>\n",
       "      <td>5</td>\n",
       "      <td>1518480000000000000</td>\n",
       "      <td>1518048000000000000</td>\n",
       "    </tr>\n",
       "  </tbody>\n",
       "</table>\n",
       "</div>"
      ],
      "text/plain": [
       "      srno  mobmake  hubid  hubpincode  pickuppartnerid  deliverypartnerid  \\\n",
       "0  2851218       12      7      500004              233                233   \n",
       "\n",
       "   insuranceCompanyId  custpincodecategory  claimtype  custpincode  \\\n",
       "0                 131                    1          0       500001   \n",
       "\n",
       "  memcreateddate mobilepurchasedate claimintdate  servicecntrid  \\\n",
       "0     2017-04-27         2016-12-02   2018-02-08           4403   \n",
       "\n",
       "  pickupStartdate  tat_in_days  pickupStartdate_Code    claimintdate_Code  \n",
       "0      2018-02-13            5   1518480000000000000  1518048000000000000  "
      ]
     },
     "execution_count": 74,
     "metadata": {},
     "output_type": "execute_result"
    }
   ],
   "source": [
    "train.head(1)"
   ]
  },
  {
   "cell_type": "code",
   "execution_count": 75,
   "metadata": {},
   "outputs": [],
   "source": [
    "from sklearn.model_selection import train_test_split"
   ]
  },
  {
   "cell_type": "code",
   "execution_count": 91,
   "metadata": {
    "scrolled": true
   },
   "outputs": [],
   "source": [
    "X = train[['mobmake','hubpincode','pickuppartnerid','deliverypartnerid','insuranceCompanyId','custpincode','claimtype','servicecntrid']]\n",
    "y = train['tat_in_days']"
   ]
  },
  {
   "cell_type": "code",
   "execution_count": 92,
   "metadata": {},
   "outputs": [],
   "source": [
    "X_train, X_test, y_train, y_test = train_test_split(X,y,random_state=1)"
   ]
  },
  {
   "cell_type": "code",
   "execution_count": 78,
   "metadata": {},
   "outputs": [
    {
     "name": "stdout",
     "output_type": "stream",
     "text": [
      "(4548, 10)\n",
      "(1516, 10)\n",
      "(4548,)\n",
      "(1516,)\n"
     ]
    }
   ],
   "source": [
    "print(X_train.shape)\n",
    "print(X_test.shape)\n",
    "print(y_train.shape)\n",
    "print(y_test.shape)\n"
   ]
  },
  {
   "cell_type": "markdown",
   "metadata": {},
   "source": [
    "#### Linear Regression"
   ]
  },
  {
   "cell_type": "code",
   "execution_count": 93,
   "metadata": {
    "scrolled": true
   },
   "outputs": [],
   "source": [
    "from sklearn.linear_model import LinearRegression\n",
    "import math\n",
    "\n",
    "linreg = LinearRegression()\n",
    "linreg.fit(X_train,y_train)\n",
    "y_pred = linreg.predict(X_test)\n",
    "y_pred = y_pred.astype(int)\n"
   ]
  },
  {
   "cell_type": "code",
   "execution_count": 94,
   "metadata": {
    "scrolled": true
   },
   "outputs": [
    {
     "data": {
      "text/plain": [
       "array([14, 11, 12, ..., 12, 15, 14])"
      ]
     },
     "execution_count": 94,
     "metadata": {},
     "output_type": "execute_result"
    }
   ],
   "source": [
    "y_pred"
   ]
  },
  {
   "cell_type": "code",
   "execution_count": 95,
   "metadata": {},
   "outputs": [
    {
     "data": {
      "text/plain": [
       "4.677741601538628"
      ]
     },
     "execution_count": 95,
     "metadata": {},
     "output_type": "execute_result"
    }
   ],
   "source": [
    "np.sqrt(metrics.mean_squared_error(y_test,y_pred))"
   ]
  },
  {
   "cell_type": "markdown",
   "metadata": {},
   "source": [
    "#### Ridge Regression"
   ]
  },
  {
   "cell_type": "code",
   "execution_count": 96,
   "metadata": {},
   "outputs": [],
   "source": [
    "from sklearn.linear_model import Ridge\n",
    "\n",
    "ridge = Ridge()\n",
    "ridge.fit(X_train,y_train)\n",
    "y_pred = ridge.predict(X_test)\n",
    "y_pred = y_pred.astype(int)\n"
   ]
  },
  {
   "cell_type": "code",
   "execution_count": 97,
   "metadata": {},
   "outputs": [
    {
     "data": {
      "text/plain": [
       "4.6776005846535735"
      ]
     },
     "execution_count": 97,
     "metadata": {},
     "output_type": "execute_result"
    }
   ],
   "source": [
    "np.sqrt(metrics.mean_squared_error(y_test,y_pred))"
   ]
  },
  {
   "cell_type": "markdown",
   "metadata": {},
   "source": [
    "#### Lasso Regression"
   ]
  },
  {
   "cell_type": "code",
   "execution_count": 98,
   "metadata": {},
   "outputs": [],
   "source": [
    "from sklearn.linear_model import Lasso\n",
    "\n",
    "model = Lasso()\n",
    "model.fit(X_train,y_train)\n",
    "y_pred = model.predict(X_test)\n",
    "y_pred = y_pred.astype(int)\n"
   ]
  },
  {
   "cell_type": "code",
   "execution_count": 99,
   "metadata": {},
   "outputs": [
    {
     "data": {
      "text/plain": [
       "4.6779531188956724"
      ]
     },
     "execution_count": 99,
     "metadata": {},
     "output_type": "execute_result"
    }
   ],
   "source": [
    "np.sqrt(metrics.mean_squared_error(y_test,y_pred))"
   ]
  },
  {
   "cell_type": "code",
   "execution_count": null,
   "metadata": {},
   "outputs": [],
   "source": []
  },
  {
   "cell_type": "markdown",
   "metadata": {},
   "source": [
    "### Linear Regression produced the least Root Mean Squared Error"
   ]
  },
  {
   "cell_type": "code",
   "execution_count": 103,
   "metadata": {},
   "outputs": [],
   "source": [
    "X_test = test[['mobmake','hubpincode','pickuppartnerid','deliverypartnerid','insuranceCompanyId','custpincode','claimtype','servicecntrid']]"
   ]
  },
  {
   "cell_type": "code",
   "execution_count": 104,
   "metadata": {},
   "outputs": [],
   "source": [
    "y_pred = ridge.predict(X_test)\n",
    "y_pred = y_pred.astype(int)"
   ]
  },
  {
   "cell_type": "code",
   "execution_count": 105,
   "metadata": {
    "scrolled": true
   },
   "outputs": [
    {
     "data": {
      "text/plain": [
       "array([11, 12, 12, 12, 10, 12, 11, 16, 13, 14, 11, 11, 11, 11, 12, 11, 11,\n",
       "       12, 11, 12, 15, 11, 13, 10, 13, 11, 12, 12, 11, 12, 11, 11, 11, 13,\n",
       "       12, 13, 11, 12, 11, 11, 11, 13, 11, 14, 12, 12, 11, 12, 13, 11, 12,\n",
       "       12, 11, 11, 11, 11, 12, 11, 11, 11, 12, 11, 10, 13, 13, 13, 11, 12,\n",
       "       11, 12, 11, 11, 13, 11, 14, 11, 11, 12, 12, 16, 16, 12, 13, 11, 12,\n",
       "       12, 12, 12, 11, 11, 12, 12, 11, 14, 11, 12, 11, 11, 12, 12, 11, 11,\n",
       "       13, 17, 12, 10, 11, 13, 14, 11, 11, 11, 12, 12, 11, 11, 11, 12, 14,\n",
       "       12, 13, 11, 13, 11, 13, 11, 11, 11, 12, 12, 12, 13, 11, 13, 14, 13,\n",
       "       12, 11, 11, 12, 11, 11, 11, 13, 13, 11, 12, 14, 13, 12, 11, 12, 11,\n",
       "       13, 12, 11, 13, 12, 12, 19, 13,  9, 12, 11, 11, 11, 11, 12, 11, 13,\n",
       "       13, 11, 13, 12, 12, 11, 11, 10, 12, 11, 13, 12, 11, 12, 11, 10, 11,\n",
       "       13, 13, 13, 14, 11, 12, 12, 11, 13, 12, 13, 10, 12, 11, 11, 12, 12,\n",
       "       11, 11, 12, 15, 13, 12, 10, 11, 12, 12, 12, 11, 12, 11, 11, 17, 12,\n",
       "       14, 11, 11, 12, 13, 12, 13, 12, 13, 11, 12, 12, 12, 11, 12, 13, 13,\n",
       "       12, 11, 11, 13, 13, 14, 11, 10, 13, 13])"
      ]
     },
     "execution_count": 105,
     "metadata": {},
     "output_type": "execute_result"
    }
   ],
   "source": [
    "y_pred"
   ]
  },
  {
   "cell_type": "code",
   "execution_count": 106,
   "metadata": {},
   "outputs": [
    {
     "data": {
      "text/plain": [
       "(248,)"
      ]
     },
     "execution_count": 106,
     "metadata": {},
     "output_type": "execute_result"
    }
   ],
   "source": [
    "y_pred.shape"
   ]
  },
  {
   "cell_type": "code",
   "execution_count": 107,
   "metadata": {
    "scrolled": true
   },
   "outputs": [],
   "source": [
    "test['tat_in_days'] = y_pred"
   ]
  },
  {
   "cell_type": "code",
   "execution_count": 40,
   "metadata": {},
   "outputs": [
    {
     "ename": "PermissionError",
     "evalue": "[Errno 13] Permission denied: 'problem_2_test.csv'",
     "output_type": "error",
     "traceback": [
      "\u001b[1;31m---------------------------------------------------------------------------\u001b[0m",
      "\u001b[1;31mPermissionError\u001b[0m                           Traceback (most recent call last)",
      "\u001b[1;32m<ipython-input-40-07088ad78a9f>\u001b[0m in \u001b[0;36m<module>\u001b[1;34m\u001b[0m\n\u001b[1;32m----> 1\u001b[1;33m \u001b[0mtest\u001b[0m\u001b[1;33m.\u001b[0m\u001b[0mto_csv\u001b[0m\u001b[1;33m(\u001b[0m\u001b[1;34m'problem_2_test.csv'\u001b[0m\u001b[1;33m)\u001b[0m\u001b[1;33m\u001b[0m\u001b[1;33m\u001b[0m\u001b[0m\n\u001b[0m",
      "\u001b[1;32mc:\\users\\sanch\\appdata\\local\\programs\\python\\python37-32\\lib\\site-packages\\pandas\\core\\generic.py\u001b[0m in \u001b[0;36mto_csv\u001b[1;34m(self, path_or_buf, sep, na_rep, float_format, columns, header, index, index_label, mode, encoding, compression, quoting, quotechar, line_terminator, chunksize, tupleize_cols, date_format, doublequote, escapechar, decimal)\u001b[0m\n\u001b[0;32m   3018\u001b[0m                                  \u001b[0mdoublequote\u001b[0m\u001b[1;33m=\u001b[0m\u001b[0mdoublequote\u001b[0m\u001b[1;33m,\u001b[0m\u001b[1;33m\u001b[0m\u001b[1;33m\u001b[0m\u001b[0m\n\u001b[0;32m   3019\u001b[0m                                  escapechar=escapechar, decimal=decimal)\n\u001b[1;32m-> 3020\u001b[1;33m         \u001b[0mformatter\u001b[0m\u001b[1;33m.\u001b[0m\u001b[0msave\u001b[0m\u001b[1;33m(\u001b[0m\u001b[1;33m)\u001b[0m\u001b[1;33m\u001b[0m\u001b[1;33m\u001b[0m\u001b[0m\n\u001b[0m\u001b[0;32m   3021\u001b[0m \u001b[1;33m\u001b[0m\u001b[0m\n\u001b[0;32m   3022\u001b[0m         \u001b[1;32mif\u001b[0m \u001b[0mpath_or_buf\u001b[0m \u001b[1;32mis\u001b[0m \u001b[1;32mNone\u001b[0m\u001b[1;33m:\u001b[0m\u001b[1;33m\u001b[0m\u001b[1;33m\u001b[0m\u001b[0m\n",
      "\u001b[1;32mc:\\users\\sanch\\appdata\\local\\programs\\python\\python37-32\\lib\\site-packages\\pandas\\io\\formats\\csvs.py\u001b[0m in \u001b[0;36msave\u001b[1;34m(self)\u001b[0m\n\u001b[0;32m    155\u001b[0m             f, handles = _get_handle(self.path_or_buf, self.mode,\n\u001b[0;32m    156\u001b[0m                                      \u001b[0mencoding\u001b[0m\u001b[1;33m=\u001b[0m\u001b[0mself\u001b[0m\u001b[1;33m.\u001b[0m\u001b[0mencoding\u001b[0m\u001b[1;33m,\u001b[0m\u001b[1;33m\u001b[0m\u001b[1;33m\u001b[0m\u001b[0m\n\u001b[1;32m--> 157\u001b[1;33m                                      compression=self.compression)\n\u001b[0m\u001b[0;32m    158\u001b[0m             \u001b[0mclose\u001b[0m \u001b[1;33m=\u001b[0m \u001b[1;32mTrue\u001b[0m\u001b[1;33m\u001b[0m\u001b[1;33m\u001b[0m\u001b[0m\n\u001b[0;32m    159\u001b[0m \u001b[1;33m\u001b[0m\u001b[0m\n",
      "\u001b[1;32mc:\\users\\sanch\\appdata\\local\\programs\\python\\python37-32\\lib\\site-packages\\pandas\\io\\common.py\u001b[0m in \u001b[0;36m_get_handle\u001b[1;34m(path_or_buf, mode, encoding, compression, memory_map, is_text)\u001b[0m\n\u001b[0;32m    422\u001b[0m         \u001b[1;32melif\u001b[0m \u001b[0mencoding\u001b[0m\u001b[1;33m:\u001b[0m\u001b[1;33m\u001b[0m\u001b[1;33m\u001b[0m\u001b[0m\n\u001b[0;32m    423\u001b[0m             \u001b[1;31m# Python 3 and encoding\u001b[0m\u001b[1;33m\u001b[0m\u001b[1;33m\u001b[0m\u001b[1;33m\u001b[0m\u001b[0m\n\u001b[1;32m--> 424\u001b[1;33m             \u001b[0mf\u001b[0m \u001b[1;33m=\u001b[0m \u001b[0mopen\u001b[0m\u001b[1;33m(\u001b[0m\u001b[0mpath_or_buf\u001b[0m\u001b[1;33m,\u001b[0m \u001b[0mmode\u001b[0m\u001b[1;33m,\u001b[0m \u001b[0mencoding\u001b[0m\u001b[1;33m=\u001b[0m\u001b[0mencoding\u001b[0m\u001b[1;33m,\u001b[0m \u001b[0mnewline\u001b[0m\u001b[1;33m=\u001b[0m\u001b[1;34m\"\"\u001b[0m\u001b[1;33m)\u001b[0m\u001b[1;33m\u001b[0m\u001b[1;33m\u001b[0m\u001b[0m\n\u001b[0m\u001b[0;32m    425\u001b[0m         \u001b[1;32melif\u001b[0m \u001b[0mis_text\u001b[0m\u001b[1;33m:\u001b[0m\u001b[1;33m\u001b[0m\u001b[1;33m\u001b[0m\u001b[0m\n\u001b[0;32m    426\u001b[0m             \u001b[1;31m# Python 3 and no explicit encoding\u001b[0m\u001b[1;33m\u001b[0m\u001b[1;33m\u001b[0m\u001b[1;33m\u001b[0m\u001b[0m\n",
      "\u001b[1;31mPermissionError\u001b[0m: [Errno 13] Permission denied: 'problem_2_test.csv'"
     ]
    }
   ],
   "source": [
    "test.to_csv('problem_2_test.csv')"
   ]
  },
  {
   "cell_type": "code",
   "execution_count": null,
   "metadata": {
    "scrolled": true
   },
   "outputs": [],
   "source": [
    "test.head()"
   ]
  },
  {
   "cell_type": "code",
   "execution_count": null,
   "metadata": {},
   "outputs": [],
   "source": [
    "test.drop(test.tat_in_days,axis = 1,inplace = True)"
   ]
  }
 ],
 "metadata": {
  "kernelspec": {
   "display_name": "Python 3",
   "language": "python",
   "name": "python3"
  },
  "language_info": {
   "codemirror_mode": {
    "name": "ipython",
    "version": 3
   },
   "file_extension": ".py",
   "mimetype": "text/x-python",
   "name": "python",
   "nbconvert_exporter": "python",
   "pygments_lexer": "ipython3",
   "version": "3.7.3"
  }
 },
 "nbformat": 4,
 "nbformat_minor": 2
}
